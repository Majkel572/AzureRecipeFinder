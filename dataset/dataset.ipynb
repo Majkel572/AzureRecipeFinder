{
 "cells": [
  {
   "cell_type": "code",
   "execution_count": 6,
   "id": "d2c86c8e",
   "metadata": {},
   "outputs": [],
   "source": [
    "import pandas as pd"
   ]
  },
  {
   "cell_type": "markdown",
   "id": "db885cfb",
   "metadata": {},
   "source": [
    "Wczytanie pliku z zawierającego 13500 przepisów na różne potrawy.\n",
    "Dataset można znaleźć i pobrać tutaj: \n",
    "\n",
    "https://www.kaggle.com/datasets/pes12017000148/food-ingredients-and-recipe-dataset-with-images?resource=download&fbclid=IwAR2LWetzLGlKO6aL2xdVMjCF6BKJOsor2NrV4p5W5fMkCnjXoPY3C7EgNhA"
   ]
  },
  {
   "cell_type": "code",
   "execution_count": 49,
   "id": "7c78604a",
   "metadata": {},
   "outputs": [
    {
     "name": "stdout",
     "output_type": "stream",
     "text": [
      "<class 'pandas.core.frame.DataFrame'>\n",
      "RangeIndex: 13501 entries, 0 to 13500\n",
      "Data columns (total 6 columns):\n",
      " #   Column               Non-Null Count  Dtype \n",
      "---  ------               --------------  ----- \n",
      " 0   Unnamed: 0           13501 non-null  int64 \n",
      " 1   Title                13496 non-null  object\n",
      " 2   Ingredients          13501 non-null  object\n",
      " 3   Instructions         13493 non-null  object\n",
      " 4   Image_Name           13501 non-null  object\n",
      " 5   Cleaned_Ingredients  13501 non-null  object\n",
      "dtypes: int64(1), object(5)\n",
      "memory usage: 633.0+ KB\n",
      "None\n"
     ]
    }
   ],
   "source": [
    "df = pd.read_csv('archive (2)/Food Ingredients and Recipe Dataset with Image Name Mapping.csv')\n",
    "\n",
    "print(df.info())"
   ]
  },
  {
   "cell_type": "markdown",
   "id": "2c81e5b5",
   "metadata": {},
   "source": [
    "Wczytanie nazw dań z datasetu ze zdjęciami.\n",
    "Dataset można znaleźć i pobrać tutaj:\n",
    "\n",
    "https://www.kaggle.com/datasets/kmader/food41?fbclid=IwAR2LWetzLGlKO6aL2xdVMjCF6BKJOsor2NrV4p5W5fMkCnjXoPY3C7EgNhA&select=food_c101_n1000_r384x384x3.h5"
   ]
  },
  {
   "cell_type": "code",
   "execution_count": 50,
   "id": "08a91e5f",
   "metadata": {},
   "outputs": [
    {
     "name": "stdout",
     "output_type": "stream",
     "text": [
      "['apple pie', 'baby back ribs', 'baklava', 'beef carpaccio', 'beef tartare', 'beet salad', 'beignets', 'bibimbap', 'bread pudding', 'breakfast burrito', 'bruschetta', 'caesar salad', 'cannoli', 'caprese salad', 'carrot cake', 'ceviche', 'cheesecake', 'cheese plate', 'chicken curry', 'chicken quesadilla', 'chicken wings', 'chocolate cake', 'chocolate mousse', 'churros', 'clam chowder', 'club sandwich', 'crab cakes', 'creme brulee', 'croque madame', 'cup cakes', 'deviled eggs', 'donuts', 'dumplings', 'edamame', 'eggs benedict', 'escargots', 'falafel', 'filet mignon', 'fish and chips', 'foie gras', 'french fries', 'french onion soup', 'french toast', 'fried calamari', 'fried rice', 'frozen yogurt', 'garlic bread', 'gnocchi', 'greek salad', 'grilled cheese sandwich', 'grilled salmon', 'guacamole', 'gyoza', 'hamburger', 'hot and sour soup', 'hot dog', 'huevos rancheros', 'hummus', 'ice cream', 'lasagna', 'lobster bisque', 'lobster roll sandwich', 'macaroni and cheese', 'macarons', 'miso soup', 'mussels', 'nachos', 'omelette', 'onion rings', 'oysters', 'pad thai', 'paella', 'pancakes', 'panna cotta', 'peking duck', 'pho', 'pizza', 'pork chop', 'poutine', 'prime rib', 'pulled pork sandwich', 'ramen', 'ravioli', 'red velvet cake', 'risotto', 'samosa', 'sashimi', 'scallops', 'seaweed salad', 'shrimp and grits', 'spaghetti bolognese', 'spaghetti carbonara', 'spring rolls', 'steak', 'strawberry shortcake', 'sushi', 'tacos', 'takoyaki', 'tiramisu', 'tuna tartare', 'waffles']\n"
     ]
    }
   ],
   "source": [
    "import os\n",
    "\n",
    "folder = './archive (3)/images'\n",
    "\n",
    "dishes_ = [name for name in os.listdir(folder) if os.path.isdir(os.path.join(folder, name))]\n",
    "dishes = []\n",
    "\n",
    "for i in range(len(dishes_)):\n",
    "    dishes.append(dishes_[i].replace(\"_\", \" \"))\n",
    "\n",
    "print(dishes)"
   ]
  },
  {
   "cell_type": "markdown",
   "id": "3f89a491",
   "metadata": {},
   "source": [
    "Aby stworzyć dataset należało wyszukać w pierwszym wczytanym pliku csv z przepisami nazwy dań, które znajdują się w naszym drugim zbiorze, na którym dokonujemy uczenia modelu. \n",
    "\n",
    "Wyszukanie zostało wykonane w połowie 'ręcznie', ponieważ w większości przypadków nazwa przepisu nie była identyczna jak w datasecie z daniami."
   ]
  },
  {
   "cell_type": "code",
   "execution_count": null,
   "id": "55a21eff",
   "metadata": {},
   "outputs": [],
   "source": [
    "for i in range(len(dishes)):\n",
    "    if 79 < i:\n",
    "        print(df[df['Title'].str.contains(dishes[i], na=False, case=False)])"
   ]
  },
  {
   "cell_type": "code",
   "execution_count": 11,
   "id": "23438c89",
   "metadata": {},
   "outputs": [
    {
     "name": "stdout",
     "output_type": "stream",
     "text": [
      "       Unnamed: 0                                              Title  \\\n",
      "396           396                                 Apple Pie Smoothie   \n",
      "1065         1065                           Bacon-Latticed Apple Pie   \n",
      "1582         1582                             Our Favorite Apple Pie   \n",
      "1585         1585                      BA's Best Deep-Dish Apple Pie   \n",
      "1643         1643                                  Apple Pie Cookies   \n",
      "2489         2489                                  Classic Apple Pie   \n",
      "3334         3334                Layered Apple Pie With Phyllo Crust   \n",
      "5724         5724                              Tiny Fried Apple Pies   \n",
      "5820         5820                                   Fried Apple Pies   \n",
      "5924         5924                               Rum Raisin Apple Pie   \n",
      "5960         5960                     Inside-Out Apple Pie à la Mode   \n",
      "6058         6058                       Apple Pie with Cheddar Crust   \n",
      "6719         6719                                  Grape & Apple Pie   \n",
      "6756         6756         Pork and Apple Pie with Cheddar-Sage Crust   \n",
      "7416         7416                                Deep-Dish Apple Pie   \n",
      "8415         8415                      Old-Fashioned Mixed-Apple Pie   \n",
      "9484         9484         Lattice Apple Pie with Mexican Brown Sugar   \n",
      "10579       10579  Cinnamon Apple Pie with Raisins and Crumb Topping   \n",
      "11511       11511                               Sour Cream Apple Pie   \n",
      "11878       11878                               Sour Cream Apple Pie   \n",
      "12325       12325              Apple Pie with Whisky-Soaked Cherries   \n",
      "12978       12978               Pippin Apple Pie with Hazelnut Crust   \n",
      "13208       13208                                   Spiced Apple Pie   \n",
      "13214       13214                                          Apple Pie   \n",
      "\n",
      "                                             Ingredients  \\\n",
      "396    ['1 Gala, Fuji, or other sweet apple, cored, s...   \n",
      "1065   ['1 1/4 cups all-purpose flour, plus more for ...   \n",
      "1582   ['2 3/4 cups all-purpose flour, divided, plus ...   \n",
      "1585   ['3 1/2 cups all-purpose flour', '2 tablespoon...   \n",
      "1643   ['1/4 cup granulated sugar', '1 teaspoon koshe...   \n",
      "2489   ['1/2 teaspoon all-purpose flour', '1/2 teaspo...   \n",
      "3334   ['1/2 cup (1 stick) unsalted butter, melted, d...   \n",
      "5724   ['2 granny smith apples, peeled, cored, and di...   \n",
      "5820   ['2 1/2 cups all-purpose flour', '3 tablespoon...   \n",
      "5924   ['3 tablespoons dark rum', '1/3 cup raisins', ...   \n",
      "5960   ['1 cup old-fashioned rolled oats', '1/2 cup c...   \n",
      "6058   ['2 1/2 cups all-purpose flour', '1/2 teaspoon...   \n",
      "6719   ['3 cups all-purpose flour plus more for surfa...   \n",
      "6756   ['2 1/2 cups (350 g) all-purpose flour', '2 te...   \n",
      "7416   ['13 mixed baking apples: Golden Delicious, Br...   \n",
      "8415   ['3 cups all purpose flour', '1/4 cup sugar', ...   \n",
      "9484   ['1/2 pound piloncillo (unrefined brown sugar;...   \n",
      "10579  ['1 1/2 cups all purpose flour', '1 tablespoon...   \n",
      "11511  ['1 3/4 cups all purpose flour', '1/4 cup suga...   \n",
      "11878  ['Pastry dough', '2 large eggs', '1 1/2 cups s...   \n",
      "12325  ['2 cups all-purpose flour', '3/4 cup powdered...   \n",
      "12978  ['2 1/2 cups all purpose flour', '3/4 cup haze...   \n",
      "13208  ['2 1/2 cups all purpose flour', '1 tablespoon...   \n",
      "13214  ['3 pounds (about 8) McIntosh apples', '3/4 cu...   \n",
      "\n",
      "                                            Instructions  \\\n",
      "396    Combine all the ingredients in a blender and b...   \n",
      "1065   In a stand mixer fitted with the flat beater a...   \n",
      "1582   In the bowl of a food processor, pulse 2 1/2 c...   \n",
      "1585   Pulse flour, sugar, and salt in food processor...   \n",
      "1643   Pulse sugar, salt, and 2 1/2 cups flour in a f...   \n",
      "2489   In a small bowl, whisk together flour and suga...   \n",
      "3334   Preheat oven to 325°F. Brush pie pan with abou...   \n",
      "5724   1. Place filling ingredients in a large bowl a...   \n",
      "5820   Blend together flour, butter, shortening, baki...   \n",
      "5924   Bring rum with raisins to a boil in a 1-quart ...   \n",
      "5960   Preheat the oven to 375°F.\\nTo make the crust,...   \n",
      "6058   Stir together flour, salt, and cheese in a lar...   \n",
      "6719   Pulse flour, sugar, and salt in a food process...   \n",
      "6756   1. First make the crust: In a medium bowl, whi...   \n",
      "7416   Peel, core, and thinly slice all the apples an...   \n",
      "8415   Blend flour, sugar, and salt in processor. Add...   \n",
      "9484   Put a large heavy baking sheet in middle of ov...   \n",
      "10579  Blend flour, sugar, salt, and baking powder in...   \n",
      "11511  Combine flour, sugar, cinnamon, and salt in me...   \n",
      "11878  Roll out dough on a lightly floured surface wi...   \n",
      "12325  Blend first 4 ingredients in processor 5 secon...   \n",
      "12978  Blend flour and hazelnuts in processor until n...   \n",
      "13208  Combine flour, sugar, salt and mace in process...   \n",
      "13214  Preheat the oven to 450°F. Roll out half the d...   \n",
      "\n",
      "                                              Image_Name  \\\n",
      "396    apple-pie-smoothie-smoothie-project-catherine-...   \n",
      "1065                            bacon-latticed-apple-pie   \n",
      "1582                     our-favorite-apple-pie-51248690   \n",
      "1585                bon-appetit-best-deep-dish-apple-pie   \n",
      "1643                                   apple-pie-cookies   \n",
      "2489                                   classic-apple-pie   \n",
      "3334        layered-apple-pie-with-phyllo-crust-56390160   \n",
      "5724                      tiny-fried-apple-pies-51145810   \n",
      "5820                             fried-apple-pies-241208   \n",
      "5924                         rum-raisin-apple-pie-236430   \n",
      "5960             inside-out-apple-pie-a-la-mode-51120410   \n",
      "6058                 apple-pie-with-cheddar-crust-354970   \n",
      "6719                              grape-apple-pie-368275   \n",
      "6756   pork-and-apple-pie-with-cheddar-sage-crust-368089   \n",
      "7416                          deep-dish-apple-pie-362669   \n",
      "8415                old-fashioned-mixed-apple-pie-355234   \n",
      "9484   lattice-apple-pie-with-mexican-brown-sugar-350597   \n",
      "10579  cinnamon-apple-pie-with-raisins-and-crumb-topp...   \n",
      "11511                        sour-cream-apple-pie-235947   \n",
      "11878                        sour-cream-apple-pie-230782   \n",
      "12325       apple-pie-with-whisky-soaked-cherries-232899   \n",
      "12978        pippin-apple-pie-with-hazelnut-crust-230954   \n",
      "13208                               spiced-apple-pie-817   \n",
      "13214                                    apple-pie-11725   \n",
      "\n",
      "                                     Cleaned_Ingredients  \n",
      "396    ['1 Gala, Fuji, or other sweet apple, cored, s...  \n",
      "1065   ['1 1/4 cups all-purpose flour, plus more for ...  \n",
      "1582   ['2 3/4 cups all-purpose flour, divided, plus ...  \n",
      "1585   ['3 1/2 cups all-purpose flour', '2 tablespoon...  \n",
      "1643   ['1/4 cup granulated sugar', '1 teaspoon koshe...  \n",
      "2489   ['1/2 teaspoon all-purpose flour', '1/2 teaspo...  \n",
      "3334   ['1/2 cup (1 stick) unsalted butter, melted, d...  \n",
      "5724   ['2 granny smith apples, peeled, cored, and di...  \n",
      "5820   ['2 1/2 cups all-purpose flour', '3 tablespoon...  \n",
      "5924   ['3 tablespoons dark rum', '1/3 cup raisins', ...  \n",
      "5960   ['1 cup old-fashioned rolled oats', '1/2 cup c...  \n",
      "6058   ['2 1/2 cups all-purpose flour', '1/2 teaspoon...  \n",
      "6719   ['3 cups all-purpose flour plus more for surfa...  \n",
      "6756   ['2 1/2 cups (350 g) all-purpose flour', '2 te...  \n",
      "7416   ['13 mixed baking apples: Golden Delicious, Br...  \n",
      "8415   ['3 cups all purpose flour', '1/4 cup sugar', ...  \n",
      "9484   ['1/2 pound piloncillo (unrefined brown sugar;...  \n",
      "10579  ['1 1/2 cups all purpose flour', '1 tablespoon...  \n",
      "11511  ['1 3/4 cups all purpose flour', '1/4 cup suga...  \n",
      "11878  ['Pastry dough', '2 large eggs', '1 1/2 cups s...  \n",
      "12325  ['2 cups all-purpose flour', '3/4 cup powdered...  \n",
      "12978  ['2 1/2 cups all purpose flour', '3/4 cup haze...  \n",
      "13208  ['2 1/2 cups all purpose flour', '1 tablespoon...  \n",
      "13214  ['3 pounds (about 8) McIntosh apples', '3/4 cu...  \n"
     ]
    }
   ],
   "source": [
    "print(df[df['Title'].str.contains('apple pie', na=False, case=False)])"
   ]
  },
  {
   "cell_type": "code",
   "execution_count": 12,
   "id": "a5e7df7a",
   "metadata": {},
   "outputs": [],
   "source": [
    "indexes = [13214, 1187, 8900, 10838, 8103, 8953, 9246, 4046, 9886, 2106, 9726, 1777, 6503, 3680, 2480, 9292, 1744, 10129, 6700, 1346, 9324, 5592, 8626, 9842, 2940, 1826, 39, 7023, 4322, 4555, 1674, 12147, 6769, 11407, 5250, 9293, 8855, 6806, 1327, 4607, 8572, 4474, 5322, 4056, 612, 11456, 1214, 11707, 3480, 12511, 8689, 1392, 11019, 115, 5178, 5892, 4434, 4873, 6652, 10335, 2666, 4086, 4072, 4083, 459, 4840, 8570, 12996, 520, 4562, 2231, 12698, 556, 7208, 171, 1333, 12566, 164, 602, 5152, 4839, 655, 679, 3488, 8906, 11002, 11797, 692, 1966, 6848, 224, 7113, 710]\n",
    "non_existent = ['beef_carpaccio', 'beef_tartare', 'cheese_plate', 'creme_brulee', 'hot_and_sour_soup', 'poutine', 'takoyaki', 'tuna_tartare']"
   ]
  },
  {
   "cell_type": "code",
   "execution_count": 51,
   "id": "907176b0",
   "metadata": {},
   "outputs": [
    {
     "name": "stdout",
     "output_type": "stream",
     "text": [
      "101\n",
      "93\n"
     ]
    }
   ],
   "source": [
    "print(len(dishes_))\n",
    "for dish in non_existent:\n",
    "    dishes_.remove(dish)\n",
    "    \n",
    "print(len(dishes_))"
   ]
  },
  {
   "cell_type": "markdown",
   "id": "b88b5d2c",
   "metadata": {},
   "source": [
    "Stworzenie pliku ramki danych z przepisami."
   ]
  },
  {
   "cell_type": "code",
   "execution_count": 68,
   "id": "e20bfef6",
   "metadata": {},
   "outputs": [],
   "source": [
    "my_data_set = pd.DataFrame(columns=('Title', 'Ingredients', 'Instructions'))\n",
    "\n",
    "for i, dish in enumerate(dishes_):\n",
    "    my_data_set = my_data_set.append({'Title': dish, 'Ingredients': df['Ingredients'].iloc[indexes[i]], 'Instructions' : df['Instructions'].iloc[indexes[i]]}, ignore_index = True)"
   ]
  },
  {
   "cell_type": "code",
   "execution_count": 69,
   "id": "fb5d0383",
   "metadata": {},
   "outputs": [
    {
     "name": "stdout",
     "output_type": "stream",
     "text": [
      "                   Title                                        Ingredients  \\\n",
      "0              apple_pie  ['3 pounds (about 8) McIntosh apples', '3/4 cu...   \n",
      "1         baby_back_ribs  ['1 or 2 racks baby back ribs, 2 1/2 to 3 1/2 ...   \n",
      "2                baklava  ['3 1/2 cups walnuts, chopped', '1/2 cup sugar...   \n",
      "3             beet_salad  ['4 medium red or golden beets (4 ounces each)...   \n",
      "4               beignets  ['1 cup lukewarm milk, about 110°F', '1/2 cup ...   \n",
      "..                   ...                                                ...   \n",
      "88  strawberry_shortcake  ['1 cup (2 sticks) unsalted butter', '8 large ...   \n",
      "89                 sushi  ['cooked sushi rice 1 1/4 cups (6 oz/185 g)', ...   \n",
      "90                 tacos  ['215g (7½ oz.) can chipotle chillies in adobo...   \n",
      "91              tiramisu  ['1 1/2 cups espresso or strong coffee', '1/4 ...   \n",
      "92               waffles  ['3 cups all-purpose flour', '1 tablespoon bak...   \n",
      "\n",
      "                                         Instructions  \n",
      "0   Preheat the oven to 450°F. Roll out half the d...  \n",
      "1   With a rack bone side up, and starting at one ...  \n",
      "2   Preheat the oven to 375°F.\\nMix together the w...  \n",
      "3   Heat oven to 400°F. Wrap each beet in foil. Ro...  \n",
      "4   1. Pour the warm milk into a large bowl. Mix 1...  \n",
      "..                                                ...  \n",
      "88  Place a rack in middle of oven; preheat to 350...  \n",
      "89  Place the rice in a microwave-safe bowl. Add a...  \n",
      "90  Preheat oven to 425°F. Line 2 oven trays with ...  \n",
      "91  Stir espresso and sugar in a small bowl until ...  \n",
      "92  Preheat waffle iron. Put a rack in middle of o...  \n",
      "\n",
      "[93 rows x 3 columns]\n"
     ]
    }
   ],
   "source": [
    "print(my_data_set)"
   ]
  },
  {
   "cell_type": "markdown",
   "id": "a33bc915",
   "metadata": {},
   "source": [
    "W instrukcjach znajdowały się w wielu miejscach stopnie Fahrenheita co zamieniłem na stopnie Celsjusza."
   ]
  },
  {
   "cell_type": "code",
   "execution_count": 67,
   "id": "0fca0e0a",
   "metadata": {},
   "outputs": [],
   "source": [
    "def fahr_to_cels(instruction, index):\n",
    "    fahr = instruction[index-3:index]\n",
    "    int_fahr = int(fahr)\n",
    "    cels = str(round(int((int_fahr-32)*5/9),-1))\n",
    "    return instruction.replace('°F','°C').replace(fahr, cels)"
   ]
  },
  {
   "cell_type": "code",
   "execution_count": 70,
   "id": "78c3c1f8",
   "metadata": {},
   "outputs": [],
   "source": [
    "for i in range(len(my_data_set)):\n",
    "    instruction = my_data_set['Instructions'].iloc[i]\n",
    "    index = instruction.find('°F')\n",
    "    found = False\n",
    "    while (index != -1):\n",
    "        found = True\n",
    "        new_instruction = fahr_to_cels(instruction, index)\n",
    "        index = new_instruction.find('°F')\n",
    "    \n",
    "    my_data_set['Instructions'].iloc[i] = new_instruction\n",
    "        "
   ]
  },
  {
   "cell_type": "code",
   "execution_count": 71,
   "id": "c0a9215b",
   "metadata": {},
   "outputs": [
    {
     "name": "stdout",
     "output_type": "stream",
     "text": [
      "                   Title                                        Ingredients  \\\n",
      "0              apple_pie  ['3 pounds (about 8) McIntosh apples', '3/4 cu...   \n",
      "1         baby_back_ribs  ['1 or 2 racks baby back ribs, 2 1/2 to 3 1/2 ...   \n",
      "2                baklava  ['3 1/2 cups walnuts, chopped', '1/2 cup sugar...   \n",
      "3             beet_salad  ['4 medium red or golden beets (4 ounces each)...   \n",
      "4               beignets  ['1 cup lukewarm milk, about 110°F', '1/2 cup ...   \n",
      "..                   ...                                                ...   \n",
      "88  strawberry_shortcake  ['1 cup (2 sticks) unsalted butter', '8 large ...   \n",
      "89                 sushi  ['cooked sushi rice 1 1/4 cups (6 oz/185 g)', ...   \n",
      "90                 tacos  ['215g (7½ oz.) can chipotle chillies in adobo...   \n",
      "91              tiramisu  ['1 1/2 cups espresso or strong coffee', '1/4 ...   \n",
      "92               waffles  ['3 cups all-purpose flour', '1 tablespoon bak...   \n",
      "\n",
      "                                         Instructions  \n",
      "0   Preheat the oven to 230°C. Roll out half the d...  \n",
      "1   Preheat the oven to 230°C. Roll out half the d...  \n",
      "2   Preheat the oven to 190°C.\\nMix together the w...  \n",
      "3   Heat oven to 200°C. Wrap each beet in foil. Ro...  \n",
      "4   1. Pour the warm milk into a large bowl. Mix 1...  \n",
      "..                                                ...  \n",
      "88  Place a rack in middle of oven; preheat to 180...  \n",
      "89  Place a rack in middle of oven; preheat to 180...  \n",
      "90  Preheat oven to 220°C. Line 2 oven trays with ...  \n",
      "91  Preheat oven to 220°C. Line 2 oven trays with ...  \n",
      "92  Preheat waffle iron. Put a rack in middle of o...  \n",
      "\n",
      "[93 rows x 3 columns]\n"
     ]
    }
   ],
   "source": [
    "print(my_data_set)"
   ]
  },
  {
   "cell_type": "markdown",
   "id": "65d3b0eb",
   "metadata": {},
   "source": [
    "Zapisanie ramki danych do pliku csv oraz zapisanie w oddzielnych plikach txt kolejnych przepisów."
   ]
  },
  {
   "cell_type": "code",
   "execution_count": 73,
   "id": "1e2ea3ad",
   "metadata": {},
   "outputs": [],
   "source": [
    "my_data_set.to_csv('recipe_data_set.csv', index=False)"
   ]
  },
  {
   "cell_type": "markdown",
   "id": "3c7f20c6",
   "metadata": {},
   "source": [
    "Aby stworzyć pliki należy najpierw utworzyć folder 'send_to_blob'"
   ]
  },
  {
   "cell_type": "code",
   "execution_count": 74,
   "id": "f92fdf13",
   "metadata": {},
   "outputs": [],
   "source": [
    "recipe_data_set = pd.read_csv('recipe_data_set.csv')\n",
    "\n",
    "for i, dish in enumerate(dishes_):\n",
    "    filename = 'send_to_blob/' + dish\n",
    "    f = open(filename, 'w', encoding=\"utf-8\")\n",
    "    f.write(recipe_data_set['Title'].iloc[i].replace('_',' ') + 2*'\\n' + recipe_data_set['Ingredients'].iloc[i].replace(\"[\", \"\").replace(\"]\", \"\").replace(\"'\", \"\") + 2*'\\n' + recipe_data_set['Instructions'].iloc[i])\n",
    "    f.close"
   ]
  }
 ],
 "metadata": {
  "kernelspec": {
   "display_name": "Python 3 (ipykernel)",
   "language": "python",
   "name": "python3"
  },
  "language_info": {
   "codemirror_mode": {
    "name": "ipython",
    "version": 3
   },
   "file_extension": ".py",
   "mimetype": "text/x-python",
   "name": "python",
   "nbconvert_exporter": "python",
   "pygments_lexer": "ipython3",
   "version": "3.9.7"
  },
  "vscode": {
   "interpreter": {
    "hash": "0d23164dccc46cd58776d6c42b6e08520d8e560835c24fb22e35df0b0152d5ce"
   }
  }
 },
 "nbformat": 4,
 "nbformat_minor": 5
}
